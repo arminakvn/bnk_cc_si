{
 "cells": [
  {
   "cell_type": "code",
   "execution_count": null,
   "metadata": {},
   "outputs": [],
   "source": [
    "import pandas, numpy, subprocess"
   ]
  },
  {
   "cell_type": "code",
   "execution_count": null,
   "metadata": {},
   "outputs": [],
   "source": [
    "import geopandas"
   ]
  },
  {
   "cell_type": "code",
   "execution_count": null,
   "metadata": {},
   "outputs": [],
   "source": [
    "df = pandas.read_csv(\"exportingv7.csv\", dtype={\n",
    "                                                                                \"time_bnk_car\":numpy.float64,\n",
    "                                                                                \"time_bnk_foot\":numpy.float64,\n",
    "                                                                                \"time_bnk_pt\":numpy.float64,\n",
    "                                                                                \"time_cc_car\":numpy.float64,\n",
    "                                                                                \"time_cc_foot\":numpy.float64,\n",
    "                                                                                \"time_cc_pt\":numpy.float64,\n",
    "                                                                                \"weighted_time_bnk_car\":numpy.float64,\n",
    "                                                                                \"weighted_time_bnk_foot\":numpy.float64,\n",
    "                                                                                \"weighted_time_bnk_pt\":numpy.float64,\n",
    "                                                                                \"weighted_time_cc_car\":numpy.float64,\n",
    "                                                                                \"weighted_time_cc_foot\":numpy.float64,\n",
    "                                                                                \"weighted_time_cc_pt\":numpy.float64,\n",
    "                                                                                \"CITYNAME\":str,\n",
    "                                                                                \"B17021_001E_2015\":numpy.float64,\n",
    "                                                                                \"B17021_002E_2015\":numpy.float64,\n",
    "                                                                                \"B03002_001E_2015\":numpy.float64,\n",
    "                                                                                \"B03002_003E_2015\":numpy.float64,\n",
    "                                                                                \"B03002_004E_2015\":numpy.float64,\n",
    "                                                                                \"B03002_006E_2015\":numpy.float64,\n",
    "                                                                                \"B03002_012E_2015\":numpy.float64,\n",
    "                                                                                \"B25008_001E_2015\":numpy.float64,\n",
    "                                                                                \"B25008_003E_2015\":numpy.float64,\n",
    "                                                                                \"B99051_001E_2015\":numpy.float64,\n",
    "                                                                                \"B99051_005E_2015\":numpy.float64,\n",
    "                                                                                \"B99051_006E_2015\":numpy.float64,\n",
    "                                                                                \"B99051_007E_2015\":numpy.float64,\n",
    "    \n",
    "                                                                                \"B15003_001E_2015\":numpy.float64,\n",
    "                                                                                \"B15003_022E_2015\":numpy.float64,\n",
    "                                                                                \"B15003_023E_2015\":numpy.float64,\n",
    "                                                                                \"B15003_024E_2015\":numpy.float64,\n",
    "                                                                                \"B15003_025E_2015\":numpy.float64,\n",
    "#                                                                                 \"B25010_001E_2015\":numpy.float64,\n",
    "#                                                                                 \"B25010_002E_2015\":numpy.float64,\n",
    "    \n",
    "    \n",
    "#                                                                                 \"B25010_003E_2015\":numpy.float64,\n",
    "                                                                                \"B25036_001E_2015\":numpy.float64,\n",
    "                                                                                \"B25036_012E_2015\":numpy.float64,\n",
    "                                                                                \"B25036_011E_2015\":numpy.float64,\n",
    "                                                                                \"B25036_010E_2015\":numpy.float64,\n",
    "                                                                                \"B25036_009E_2015\":numpy.float64,\n",
    "                                                                                \"B25036_008E_2015\":numpy.float64,\n",
    "                                                                                \"B25036_007E_2015\":numpy.float64,\n",
    "    \n",
    "                                        \n",
    "                                                                                \"B25036_006E_2015\":numpy.float64,\n",
    "                                                                                \"B25036_023E_2015\":numpy.float64,\n",
    "                                                                                \"B25036_022E_2015\":numpy.float64,\n",
    "                                                                                \"B25036_021E_2015\":numpy.float64,\n",
    "                                                                                \"B25036_020E_2015\":numpy.float64,\n",
    "                                                                                \"B25036_019E_2015\":numpy.float64,\n",
    "                                                                                \"B25036_018E_2015\":numpy.float64,\n",
    "                                                                                \"B25036_017E_2015\":numpy.float64,\n",
    "\n",
    "                                                                                \"B25001_001E_2015\":numpy.float64,\n",
    "                                                                                \"B25004_001E_2015\":numpy.float64,\n",
    "                                                                                \"B25010_001E_2015\":numpy.float64,\n",
    "                                                                                \"B25010_002E_2015\":numpy.float64,\n",
    "                                                                                \"B25010_003E_2015\":numpy.float64,\n",
    "    \n",
    "    \n",
    "    \n",
    "                                                                                \"B23025_004E_2015\":numpy.float64,\n",
    "                                                                                \"B23025_005E_2015\":numpy.float64,\n",
    "                                                                                \"B23025_003E_2015\":numpy.float64,\n",
    "    \n",
    "                                                                                \"B17021_001E_2010\":numpy.float64,\n",
    "                                                                                \"B17021_002E_2010\":numpy.float64,\n",
    "                                                                                \"B03002_001E_2010\":numpy.float64,\n",
    "                                                                                \"B03002_003E_2010\":numpy.float64,\n",
    "                                                                                \"B03002_004E_2010\":numpy.float64,\n",
    "                                                                                \"B03002_006E_2010\":numpy.float64,\n",
    "                                                                                \"B03002_012E_2010\":numpy.float64,\n",
    "                                                                                \"B25008_001E_2010\":numpy.float64,\n",
    "                                                                                \"B25008_003E_2010\":numpy.float64,\n",
    "                                                                                \"B99051_001E_2010\":numpy.float64,\n",
    "                                                                                \"B99051_005E_2010\":numpy.float64,\n",
    "                                                                                \"B99051_006E_2010\":numpy.float64,\n",
    "                                                                                \"B99051_007E_2010\":numpy.float64,\n",
    "                                                                                \"GEOID\":str,\n",
    "                                                                                \"PCOUNT\":numpy.float64 })"
   ]
  },
  {
   "cell_type": "code",
   "execution_count": null,
   "metadata": {},
   "outputs": [],
   "source": [
    "cols = df.columns"
   ]
  },
  {
   "cell_type": "code",
   "execution_count": null,
   "metadata": {},
   "outputs": [],
   "source": [
    "gdf = geopandas.read_file(\"shapefiles/aalblockgroups.shp\")"
   ]
  },
  {
   "cell_type": "code",
   "execution_count": null,
   "metadata": {},
   "outputs": [],
   "source": [
    "gdf['area'] = gdf['geometry'].to_crs(epsg=3857).area / 10**6"
   ]
  },
  {
   "cell_type": "code",
   "execution_count": null,
   "metadata": {},
   "outputs": [],
   "source": [
    "gdf[\"geoid\"] = gdf[\"geoid\"].astype(\"str\")"
   ]
  },
  {
   "cell_type": "code",
   "execution_count": null,
   "metadata": {},
   "outputs": [],
   "source": [
    "gdf[\"geoid\"] = gdf[\"geoid\"].apply(lambda x: x.zfill(12))"
   ]
  },
  {
   "cell_type": "code",
   "execution_count": null,
   "metadata": {},
   "outputs": [],
   "source": [
    "df[\"geoid\"]= df[\"GEOID\"].apply(lambda x: x.zfill(12))"
   ]
  },
  {
   "cell_type": "code",
   "execution_count": null,
   "metadata": {},
   "outputs": [],
   "source": [
    "df.set_index(\"geoid\", inplace=True)"
   ]
  },
  {
   "cell_type": "code",
   "execution_count": null,
   "metadata": {},
   "outputs": [],
   "source": [
    "gdf.set_index(\"geoid\", inplace=True)"
   ]
  },
  {
   "cell_type": "code",
   "execution_count": null,
   "metadata": {},
   "outputs": [],
   "source": [
    "def safeDiffrence(p15,p10):\n",
    "    if p10 == 0 and p15 !=0:\n",
    "        return numpy.log(p15) - numpy.log(1)\n",
    "    elif p10 != 0 and p15 == 0:\n",
    "        return numpy.log(1) - numpy.log(p10)\n",
    "    elif p10 == 0 and p15 == 0:\n",
    "        return 0\n",
    "    else:\n",
    "        return numpy.log(p15) - numpy.log(p10)\n",
    "def safePerCapita(pc, p15):\n",
    "    if p15 == 0:\n",
    "        return pc / 1000\n",
    "    else:\n",
    "        return pc / (p15 * 1000)\n",
    "def safePropOwner(rnt, totl):\n",
    "    return 1 - (rnt / (totl+1))\n",
    "\n",
    "def safeDevide(row1, row2):\n",
    "    if row2 == 0 and row1 !=0:\n",
    "        return row1\n",
    "    elif row2 == 0 and row1 == 0:\n",
    "        return 1\n",
    "    else:\n",
    "        return row1/row2"
   ]
  },
  {
   "cell_type": "code",
   "execution_count": null,
   "metadata": {},
   "outputs": [],
   "source": [
    "df[\"WHT15\"] = df[\"B03002_003E_2015\"] / df[\"B03002_001E_2015\"]\n",
    "df[\"BLC15\"] = df[\"B03002_004E_2015\"] / df[\"B03002_001E_2015\"]\n",
    "df[\"LAT15\"] = df[\"B03002_012E_2015\"] / df[\"B03002_001E_2015\"]\n",
    "df[\"ASIA15\"] = df[\"B03002_006E_2015\"] / df[\"B03002_001E_2015\"]\n",
    "\n",
    "df[\"OWN15\"] = df.apply(lambda row: safePropOwner(row[\"B25008_003E_2015\"], row[\"B25008_001E_2015\"]), axis=1)  \n",
    "\n",
    "df[\"POV15\"] = df[\"B17021_002E_2015\"] / df[\"B17021_001E_2015\"]\n",
    "df[\"FRN15\"] = df[\"B99051_005E_2015\"] / df[\"B99051_001E_2015\"]\n",
    "\n",
    "df[\"UMP15\"]  = df[\"B23025_005E_2015\"] / (df[\"B23025_004E_2015\"] + df[\"B23025_005E_2015\"])\n",
    "\n",
    "df[\"EDU15\"] = ( df[\"B15003_022E_2015\"]  +  df[\"B15003_023E_2015\"]  +  df[\"B15003_024E_2015\"]  +  df[\"B15003_025E_2015\"] ) / df[\"B15003_001E_2015\"] \n",
    "\n",
    "df[\"BLB00\"] = ((df[\"B25036_012E_2015\"] + df[\"B25036_011E_2015\"] + df[\"B25036_010E_2015\"] + df[\"B25036_009E_2015\"] + df[\"B25036_008E_2015\"] + df[\"B25036_007E_2015\"] + df[\"B25036_006E_2015\"]) + (df[\"B25036_023E_2015\"] + df[\"B25036_022E_2015\"] + df[\"B25036_021E_2015\"] + df[\"B25036_020E_2015\"] + df[\"B25036_019E_2015\"] + df[\"B25036_018E_2015\"] + df[\"B25036_017E_2015\"])) / df[\"B25036_001E_2015\"]\n",
    "df[\"HU15\"] = df[\"B25001_001E_2015\"]\n",
    "df[\"HU15\"] = df[\"B25001_001E_2015\"]\n",
    "\n",
    "df[\"VACRAT15\"]  = df[\"B25004_001E_2015\"] / df[\"B25001_001E_2015\"]\n",
    "df[\"POPCHRT1015\"] = (df[\"B03002_001E_2015\"] - df[\"B03002_001E_2010\"]) / df[\"B03002_001E_2010\"]\n",
    "df[\"POPCHG_NATLOG1015\"] = df.apply(lambda row: safeDiffrence(row[\"B03002_001E_2015\"], row[\"B03002_001E_2010\"]), axis=1)\n",
    "df[\"POPDEN_NATLOG15\"] = df[\"B03002_001E_2015\"].apply(lambda x: numpy.log(x) if x != 0 else numpy.log(1)) \n",
    "df[\"COMDENPERCAPT\"] = df.apply(lambda row: safePerCapita(row[\"PCOUNT\"], row[\"B25004_001E_2015\"]), axis=1)  "
   ]
  },
  {
   "cell_type": "code",
   "execution_count": null,
   "metadata": {},
   "outputs": [],
   "source": [
    "def diffPTfixwithFoot(bnk_pt, cc_pt, bnk_foot, cc_foot):   \n",
    "        \n",
    "    if bnk_pt == 0 or bnk_pt is None or bnk_pt == \"NaN\" or bnk_pt == \"\" or bnk_pt == \"nan\" or numpy.isnan(bnk_pt):\n",
    "        if bnk_foot >= 0:\n",
    "            bnk = bnk_foot / 60000\n",
    "        else:\n",
    "            bnk = 0\n",
    "    else:\n",
    "        bnk = bnk_pt/60\n",
    "    if cc_pt == 0 or cc_pt is None or cc_pt == \"NaN\" or cc_pt == \"\" or cc_pt == \"nan\" or numpy.isnan(cc_pt):\n",
    "        if cc_foot >= 0:\n",
    "            cc = cc_foot / 60000\n",
    "        else:\n",
    "            cc = 0\n",
    "    else:\n",
    "        \n",
    "        cc = cc_pt/60\n",
    "    print(bnk, cc)\n",
    "    return bnk - cc\n",
    "    \n",
    "    \n",
    "def ratioPTfixwithFoot(bnk_pt, cc_pt, bnk_foot, cc_foot):   \n",
    "        \n",
    "    if bnk_pt == 0 or bnk_pt is None or bnk_pt == \"NaN\" or bnk_pt == \"\" or bnk_pt == \"nan\" or numpy.isnan(bnk_pt):\n",
    "        if bnk_foot >= 0:\n",
    "            bnk = bnk_foot / 60000\n",
    "        else:\n",
    "            bnk = 0\n",
    "    else:\n",
    "        bnk = bnk_pt/60\n",
    "    if cc_pt == 0 or cc_pt is None or cc_pt == \"NaN\" or cc_pt == \"\" or cc_pt == \"nan\" or numpy.isnan(cc_pt):\n",
    "        if cc_foot >= 0:\n",
    "            cc = cc_foot / 60000\n",
    "        else:\n",
    "            cc = 0\n",
    "    else:\n",
    "        \n",
    "        cc = cc_pt/60\n",
    "    print(bnk, cc)\n",
    "    return (bnk + 0.00001)/ (cc + 0.00001)\n",
    "    "
   ]
  },
  {
   "cell_type": "code",
   "execution_count": null,
   "metadata": {},
   "outputs": [],
   "source": [
    "df = df.drop_duplicates(\"GEOID\")"
   ]
  },
  {
   "cell_type": "code",
   "execution_count": null,
   "metadata": {},
   "outputs": [],
   "source": [
    "gdf = gdf.join(mdf)"
   ]
  },
  {
   "cell_type": "code",
   "execution_count": null,
   "metadata": {},
   "outputs": [],
   "source": [
    "gdf[\"HUDEN\"] = gdf[\"HU15\"]/ gdf[\"area\"]"
   ]
  },
  {
   "cell_type": "code",
   "execution_count": null,
   "metadata": {},
   "outputs": [],
   "source": [
    "mdf.insert(0, 'pid', range(1, 1 + len(mdf)))"
   ]
  },
  {
   "cell_type": "code",
   "execution_count": null,
   "metadata": {},
   "outputs": [],
   "source": [
    "pandas.DataFrame(gdf).to_csv(\"exporting_718.csv\")"
   ]
  },
  {
   "cell_type": "code",
   "execution_count": null,
   "metadata": {},
   "outputs": [],
   "source": [
    "gdf.to_file(\"shapefiles/ratioacsalblockgroupsv717.shp\")"
   ]
  }
 ],
 "metadata": {
  "kernelspec": {
   "display_name": "Python 3",
   "language": "python",
   "name": "python3"
  },
  "language_info": {
   "codemirror_mode": {
    "name": "ipython",
    "version": 3
   },
   "file_extension": ".py",
   "mimetype": "text/x-python",
   "name": "python",
   "nbconvert_exporter": "python",
   "pygments_lexer": "ipython3",
   "version": "3.6.4"
  }
 },
 "nbformat": 4,
 "nbformat_minor": 2
}
